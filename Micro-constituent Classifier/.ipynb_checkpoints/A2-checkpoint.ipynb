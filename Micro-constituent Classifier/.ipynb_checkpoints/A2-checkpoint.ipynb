{
 "cells": [
  {
   "cell_type": "code",
   "execution_count": 1,
   "metadata": {},
   "outputs": [
    {
     "name": "stderr",
     "output_type": "stream",
     "text": [
      "Using TensorFlow backend.\n"
     ]
    }
   ],
   "source": [
    "import os\n",
    "import numpy as np\n",
    "import matplotlib.pyplot as plt\n",
    "import pandas as pd\n",
    "import cv2\n",
    "import ntpath\n",
    "import keras\n",
    "import sys\n",
    "from sklearn import metrics\n",
    "from sklearn import preprocessing\n",
    "from sklearn.model_selection import train_test_split,cross_val_score\n",
    "from sklearn.svm import LinearSVC,SVC,NuSVC\n",
    "from sklearn.multiclass import OneVsOneClassifier\n",
    "from sklearn.preprocessing import StandardScaler\n",
    "from keras.preprocessing import image\n",
    "from keras.applications.vgg16 import preprocess_input,VGG16\n",
    "from keras.models import Sequential,load_model,Model\n",
    "from keras.utils import to_categorical \n",
    "%matplotlib inline "
   ]
  },
  {
   "cell_type": "code",
   "execution_count": 2,
   "metadata": {},
   "outputs": [
    {
     "data": {
      "text/html": [
       "<div>\n",
       "<style scoped>\n",
       "    .dataframe tbody tr th:only-of-type {\n",
       "        vertical-align: middle;\n",
       "    }\n",
       "\n",
       "    .dataframe tbody tr th {\n",
       "        vertical-align: top;\n",
       "    }\n",
       "\n",
       "    .dataframe thead th {\n",
       "        text-align: right;\n",
       "    }\n",
       "</style>\n",
       "<table border=\"1\" class=\"dataframe\">\n",
       "  <thead>\n",
       "    <tr style=\"text-align: right;\">\n",
       "      <th></th>\n",
       "      <th>micrograph_id</th>\n",
       "      <th>path</th>\n",
       "      <th>micron_bar</th>\n",
       "      <th>micron_bar_units</th>\n",
       "      <th>micron_bar_px</th>\n",
       "      <th>magnification</th>\n",
       "      <th>detector</th>\n",
       "      <th>sample_key</th>\n",
       "      <th>contributor_key</th>\n",
       "      <th>primary_microconstituent</th>\n",
       "    </tr>\n",
       "  </thead>\n",
       "  <tbody>\n",
       "    <tr>\n",
       "      <th>0</th>\n",
       "      <td>1</td>\n",
       "      <td>micrograph1.tif</td>\n",
       "      <td>5</td>\n",
       "      <td>um</td>\n",
       "      <td>129</td>\n",
       "      <td>4910x</td>\n",
       "      <td>SE</td>\n",
       "      <td>42.0</td>\n",
       "      <td>2</td>\n",
       "      <td>pearlite</td>\n",
       "    </tr>\n",
       "    <tr>\n",
       "      <th>1</th>\n",
       "      <td>2</td>\n",
       "      <td>micrograph2.tif</td>\n",
       "      <td>10</td>\n",
       "      <td>um</td>\n",
       "      <td>103</td>\n",
       "      <td>1964X</td>\n",
       "      <td>SE</td>\n",
       "      <td>18.0</td>\n",
       "      <td>2</td>\n",
       "      <td>spheroidite</td>\n",
       "    </tr>\n",
       "    <tr>\n",
       "      <th>2</th>\n",
       "      <td>4</td>\n",
       "      <td>micrograph4.tif</td>\n",
       "      <td>10</td>\n",
       "      <td>um</td>\n",
       "      <td>129</td>\n",
       "      <td>NaN</td>\n",
       "      <td>SE</td>\n",
       "      <td>35.0</td>\n",
       "      <td>2</td>\n",
       "      <td>pearlite+spheroidite</td>\n",
       "    </tr>\n",
       "    <tr>\n",
       "      <th>3</th>\n",
       "      <td>5</td>\n",
       "      <td>micrograph5.tif</td>\n",
       "      <td>5</td>\n",
       "      <td>um</td>\n",
       "      <td>129</td>\n",
       "      <td>4910X</td>\n",
       "      <td>SE</td>\n",
       "      <td>10.0</td>\n",
       "      <td>2</td>\n",
       "      <td>pearlite</td>\n",
       "    </tr>\n",
       "    <tr>\n",
       "      <th>4</th>\n",
       "      <td>6</td>\n",
       "      <td>micrograph6.tif</td>\n",
       "      <td>20</td>\n",
       "      <td>um</td>\n",
       "      <td>124</td>\n",
       "      <td>1178X</td>\n",
       "      <td>SE</td>\n",
       "      <td>29.0</td>\n",
       "      <td>2</td>\n",
       "      <td>spheroidite</td>\n",
       "    </tr>\n",
       "  </tbody>\n",
       "</table>\n",
       "</div>"
      ],
      "text/plain": [
       "   micrograph_id             path  micron_bar micron_bar_units  micron_bar_px  \\\n",
       "0              1  micrograph1.tif           5               um            129   \n",
       "1              2  micrograph2.tif          10               um            103   \n",
       "2              4  micrograph4.tif          10               um            129   \n",
       "3              5  micrograph5.tif           5               um            129   \n",
       "4              6  micrograph6.tif          20               um            124   \n",
       "\n",
       "  magnification detector  sample_key  contributor_key primary_microconstituent  \n",
       "0         4910x       SE        42.0                2                 pearlite  \n",
       "1         1964X       SE        18.0                2              spheroidite  \n",
       "2           NaN       SE        35.0                2     pearlite+spheroidite  \n",
       "3         4910X       SE        10.0                2                 pearlite  \n",
       "4         1178X       SE        29.0                2              spheroidite  "
      ]
     },
     "execution_count": 2,
     "metadata": {},
     "output_type": "execute_result"
    }
   ],
   "source": [
    "datadir = 'micrograph'\n",
    "columns = ['micrograph_id','path','micron_bar','micron_bar_units','micron_bar_px',\n",
    "           'magnification','detector','sample_key','contributor_key','primary_microconstituent']\n",
    "data = pd.read_csv('micrograph.csv')\n",
    "data.head()"
   ]
  },
  {
   "cell_type": "code",
   "execution_count": 3,
   "metadata": {},
   "outputs": [],
   "source": [
    "p = 0\n",
    "n = 0\n",
    "s = 0\n",
    "Xp = [];Xpt = [];\n",
    "Yp = [];Ypt = [];\n",
    "Xn = [];Xnt = [];\n",
    "Yn = [];Ynt = [];\n",
    "Xs = [];Xst = [];\n",
    "Ys = [];Yst = [];\n",
    "Xmt= []\n",
    "Ymt = []\n",
    "data_dir = 'micrograph'\n",
    "for i in range(len(data)):\n",
    "    indexed_data = data.iloc[i]\n",
    "    if(indexed_data[9]=='pearlite'and p < 100):\n",
    "        p = p+1\n",
    "        x = indexed_data[1]\n",
    "        Xp.append(os.path.join(data_dir, x.strip()))\n",
    "        Yp.append(indexed_data[9])\n",
    "        \n",
    "    if(indexed_data[9]=='pearlite'and p >= 100):\n",
    "        x = indexed_data[1]\n",
    "        Xpt.append(os.path.join(data_dir, x.strip()))\n",
    "        Ypt.append(indexed_data[9])\n",
    "Xp = np.asarray(Xp)\n",
    "Yp = np.asarray(Yp)\n",
    "    \n",
    "for i in range(len(data)):\n",
    "    indexed_data = data.iloc[i]\n",
    "    if(indexed_data[9]=='network'and n < 100):\n",
    "        n = n+1\n",
    "        x = indexed_data[1]\n",
    "        Xn.append(os.path.join(data_dir, x.strip()))\n",
    "        Yn.append(indexed_data[9])\n",
    "    if(indexed_data[9]=='network'and n >= 100):\n",
    "        x = indexed_data[1]\n",
    "        Xnt.append(os.path.join(data_dir, x.strip()))\n",
    "        Ynt.append(indexed_data[9])\n",
    "Xn = np.asarray(Xn)\n",
    "Yn = np.asarray(Yn)\n",
    "    \n",
    "for i in range(len(data)):\n",
    "    indexed_data = data.iloc[i]\n",
    "    if(indexed_data[9]=='spheroidite'and s < 100):\n",
    "        s = s+1\n",
    "        x = indexed_data[1]\n",
    "        Xs.append(os.path.join(data_dir, x.strip()))\n",
    "        Ys.append(indexed_data[9])\n",
    "    if(indexed_data[9]=='spheroidite'and s >= 100):\n",
    "        x = indexed_data[1]\n",
    "        Xst.append(os.path.join(data_dir, x.strip()))\n",
    "        Yst.append(indexed_data[9])\n",
    "        \n",
    "Xs = np.asarray(Xs)\n",
    "Ys = np.asarray(Ys)\n",
    "\n",
    "for i in range(len(data)):\n",
    "    indexed_data = data.iloc[i]\n",
    "    if(indexed_data[9]=='spheroidite'or indexed_data[9]=='network' or\n",
    "       indexed_data[9]=='pearlite' or indexed_data[9]=='martensite' or \n",
    "       indexed_data[9]=='widmanstatten'):\n",
    "        pass\n",
    "    else:\n",
    "        x = indexed_data[1]\n",
    "        Xmt.append(os.path.join(data_dir, x.strip()))\n",
    "        Ymt.append(indexed_data[9])"
   ]
  },
  {
   "cell_type": "code",
   "execution_count": 5,
   "metadata": {},
   "outputs": [],
   "source": [
    "def datagen(Xp,Xs,Xn,Yp,Ys,Yn,Xpt,Xst,Xnt,Ypt,Yst,Ynt):\n",
    "    image_path = []\n",
    "    label = []\n",
    "            \n",
    "            \n",
    "    X1 = np.concatenate((Xp,Xs))\n",
    "    Y1 = np.concatenate((Yp,Ys))\n",
    "    X2 = np.concatenate((Xp,Xn))\n",
    "    Y2 = np.concatenate((Yp,Yn))\n",
    "    X3 = np.concatenate((Xs,Xn))\n",
    "    Y3 = np.concatenate((Ys,Yn))\n",
    "    \n",
    "\n",
    "    Xr = np.concatenate((Xp,Xs,Xn))\n",
    "    Yr = np.concatenate((Yp,Ys,Yn))\n",
    "    \n",
    "    X1t = np.concatenate((Xpt,Xst))\n",
    "    Y1t = np.concatenate((Ypt,Yst))\n",
    "    X2t = np.concatenate((Xpt,Xnt))\n",
    "    Y2t = np.concatenate((Ypt,Ynt))\n",
    "    X3t = np.concatenate((Xst,Xnt))\n",
    "    Y3t = np.concatenate((Yst,Ynt))\n",
    "\n",
    "    Xe = np.concatenate((Xpt,Xst,Xnt))\n",
    "    Ye = np.concatenate((Ypt,Yst,Ynt))\n",
    "    \n",
    "    \n",
    "    return X1,Y1,X2,Y2,X3,Y3,Xr,Yr,X1t,Y1t,X2t,Y2t,X3t,Y3t,Xe,Ye\n",
    "\n",
    "X1,Y1,X2,Y2,X3,Y3,Xr,Yr,X1t,Y1t,X2t,Y2t,X3t,Y3t,Xe,Ye = datagen(Xp,Xs,Xn,Yp,Ys,Yn,Xpt,Xst,Xnt,Ypt,Yst,Ynt)"
   ]
  },
  {
   "cell_type": "code",
   "execution_count": 6,
   "metadata": {},
   "outputs": [],
   "source": [
    "#le = preprocessing.LabelEncoder()\n",
    "#le.fit(['pearlite','spheroidite','network'])\n",
    "#Y1 = le.transform(Y1)\n",
    "##Y1 = to_categorical(Y1)\n",
    "##le.fit(['pearlite',])\n",
    "#Y2 = le.transform(Y2)\n",
    "##Y2 = to_categorical(Y2)\n",
    "##le.fit(['spheroidite','network'])\n",
    "#Y3 = le.transform(Y3)\n",
    "##Y3 = to_categorical(Y3)\n",
    "#Y1t_ = le.transform(Yt)\n",
    "#le.fit((['pearlite+spheroidite',]))"
   ]
  },
  {
   "cell_type": "code",
   "execution_count": 7,
   "metadata": {},
   "outputs": [],
   "source": [
    "def pre_processor(img_path):\n",
    "    img = image.load_img(img_path, target_size=(224, 224))\n",
    "    x = image.img_to_array(img)\n",
    "    x = x[0:484,:,:] \n",
    "    x = np.expand_dims(x, axis=0)\n",
    "    x = preprocess_input(x)\n",
    "    return x\n",
    "\n",
    "def generator(X):\n",
    "    x = []\n",
    "    for i in range(len(X)):\n",
    "        x.append(pre_processor(X[i]))\n",
    "    return x"
   ]
  },
  {
   "cell_type": "code",
   "execution_count": 8,
   "metadata": {},
   "outputs": [],
   "source": [
    "X1 = generator(X1)\n",
    "X2 = generator(X2)\n",
    "X3 = generator(X3)\n",
    "Xr = generator(Xr)\n",
    "\n",
    "X1t = generator(X1t)\n",
    "X2t = generator(X2t)\n",
    "X3t = generator(X3t)\n",
    "\n",
    "Xe = generator(Xe)"
   ]
  },
  {
   "cell_type": "code",
   "execution_count": 33,
   "metadata": {},
   "outputs": [],
   "source": [
    "#single labels\n",
    "Xpt = generator(Xpt)\n",
    "Xst = generator(Xst)\n",
    "Xnt = generator(Xnt) "
   ]
  },
  {
   "cell_type": "code",
   "execution_count": 9,
   "metadata": {},
   "outputs": [],
   "source": [
    "base_model = VGG16(weights='imagenet', include_top=False)"
   ]
  },
  {
   "cell_type": "code",
   "execution_count": 10,
   "metadata": {},
   "outputs": [],
   "source": [
    "def exctractor(X,model):\n",
    "    x = []\n",
    "    for i in range(len(X)):\n",
    "        x.append(model.predict(X[i]))\n",
    "    return np.array(x)"
   ]
  },
  {
   "cell_type": "code",
   "execution_count": null,
   "metadata": {},
   "outputs": [],
   "source": [
    "model_M1 = Model(inputs=base_model.input, outputs=base_model.get_layer('block1_pool').output)\n",
    "model_M2 = Model(inputs=base_model.input, outputs=base_model.get_layer('block2_pool').output)\n",
    "model_M3 = Model(inputs=base_model.input, outputs=base_model.get_layer('block3_pool').output)\n",
    "model_M4 = Model(inputs=base_model.input, outputs=base_model.get_layer('block4_pool').output)\n",
    "model_M5 = Model(inputs=base_model.input, outputs=base_model.get_layer('block5_pool').output)"
   ]
  },
  {
   "cell_type": "code",
   "execution_count": 11,
   "metadata": {},
   "outputs": [],
   "source": [
    "X1M1 = exctractor(X1,model_M1)\n",
    "X1M2 = exctractor(X1,model_M2)\n",
    "X1M3 = exctractor(X1,model_M3)\n",
    "X1M4 = exctractor(X1,model_M4)\n",
    "X1M5 = exctractor(X1,model_M5)"
   ]
  },
  {
   "cell_type": "code",
   "execution_count": 12,
   "metadata": {},
   "outputs": [],
   "source": [
    "X2M1 = exctractor(X2,model_M1)\n",
    "X2M2 = exctractor(X2,model_M2)\n",
    "X2M3 = exctractor(X2,model_M3)\n",
    "X2M4 = exctractor(X2,model_M4)\n",
    "X2M5 = exctractor(X2,model_M5)"
   ]
  },
  {
   "cell_type": "code",
   "execution_count": 13,
   "metadata": {},
   "outputs": [],
   "source": [
    "X3M1 = exctractor(X3,model_M1)\n",
    "X3M2 = exctractor(X3,model_M2)\n",
    "X3M3 = exctractor(X3,model_M3)\n",
    "X3M4 = exctractor(X3,model_M4)\n",
    "X3M5 = exctractor(X3,model_M5)"
   ]
  },
  {
   "cell_type": "code",
   "execution_count": 47,
   "metadata": {},
   "outputs": [],
   "source": [
    "X_train1_ = exctractor(Xr,model_M1)\n",
    "X_train2_ = exctractor(Xr,model_M2)\n",
    "X_train3_ = exctractor(Xr,model_M3)\n",
    "X_train4_ = exctractor(Xr,model_M4)\n",
    "X_train5_ = exctractor(Xr,model_M5)"
   ]
  },
  {
   "cell_type": "code",
   "execution_count": 16,
   "metadata": {},
   "outputs": [],
   "source": [
    "def reshapper(X):\n",
    "    x = []\n",
    "    for i in range(len(X)):\n",
    "        v = []\n",
    "        a = X[i].reshape(X.shape[4],-1)\n",
    "        for c in range(len(a)):\n",
    "            v.append(sum(a[c])/(X.shape[2]*X.shape[3]))\n",
    "        x.append(np.array(v).T)\n",
    "    return np.array(x)"
   ]
  },
  {
   "cell_type": "code",
   "execution_count": 17,
   "metadata": {},
   "outputs": [],
   "source": [
    "X1M1_ = reshapper(X1M1)\n",
    "X1M2_ = reshapper(X1M2)\n",
    "X1M3_ = reshapper(X1M3)\n",
    "X1M4_ = reshapper(X1M4)\n",
    "X1M5_ = reshapper(X1M5)"
   ]
  },
  {
   "cell_type": "code",
   "execution_count": 18,
   "metadata": {},
   "outputs": [],
   "source": [
    "X2M1_ = reshapper(X2M1)\n",
    "X2M2_ = reshapper(X2M2)\n",
    "X2M3_ = reshapper(X2M3)\n",
    "X2M4_ = reshapper(X2M4)\n",
    "X2M5_ = reshapper(X2M5)"
   ]
  },
  {
   "cell_type": "code",
   "execution_count": 19,
   "metadata": {},
   "outputs": [],
   "source": [
    "X3M1_ = reshapper(X3M1)\n",
    "X3M2_ = reshapper(X3M2)\n",
    "X3M3_ = reshapper(X3M3)\n",
    "X3M4_ = reshapper(X3M4)\n",
    "X3M5_ = reshapper(X3M5)"
   ]
  },
  {
   "cell_type": "code",
   "execution_count": 48,
   "metadata": {},
   "outputs": [],
   "source": [
    "X_train1 = reshapper(X_train1_)\n",
    "X_train2 = reshapper(X_train2_)\n",
    "X_train3 = reshapper(X_train3_)\n",
    "X_train4 = reshapper(X_train4_)\n",
    "X_train5 = reshapper(X_train5_)\n"
   ]
  },
  {
   "cell_type": "code",
   "execution_count": 52,
   "metadata": {
    "scrolled": true
   },
   "outputs": [
    {
     "name": "stdout",
     "output_type": "stream",
     "text": [
      "CV error on layer 1 0.49\n",
      "CV error on layer 2 0.49\n",
      "CV error on layer 3 0.49\n",
      "CV error on layer 4 0.5\n",
      "CV error on layer 5 0.13000000000000012\n"
     ]
    }
   ],
   "source": [
    "clf1 = SVC(gamma ='auto' ,kernel ='rbf', C = 10)\n",
    "\n",
    "scores_X1M1 = cross_val_score(clf1, X1M1_, Y1, cv=10)\n",
    "scores_X1M2 = cross_val_score(clf1, X1M2_, Y1, cv=10)\n",
    "scores_X1M3 = cross_val_score(clf1, X1M3_, Y1, cv=10)\n",
    "scores_X1M4 = cross_val_score(clf1, X1M4_, Y1, cv=10)\n",
    "scores_X1M5 = cross_val_score(clf1, X1M5_, Y1, cv=10)\n",
    "print('CV error on layer 1',1-sum(scores_X1M1)/10)\n",
    "print('CV error on layer 2',1-sum(scores_X1M2)/10)\n",
    "print('CV error on layer 3',1-sum(scores_X1M3)/10)\n",
    "print('CV error on layer 4',1-sum(scores_X1M4)/10)\n",
    "print('CV error on layer 5',1-sum(scores_X1M5)/10)"
   ]
  },
  {
   "cell_type": "code",
   "execution_count": 53,
   "metadata": {},
   "outputs": [
    {
     "name": "stdout",
     "output_type": "stream",
     "text": [
      "CV error on layer 1 0.495\n",
      "CV error on layer 2 0.49\n",
      "CV error on layer 3 0.4850000000000001\n",
      "CV error on layer 4 0.495\n",
      "CV error on layer 5 0.019999999999999907\n"
     ]
    }
   ],
   "source": [
    "clf2 = SVC(gamma ='auto' ,kernel ='rbf', C = 10)\n",
    "scores_X2M1 = cross_val_score(clf2, X2M1_, Y2, cv=10)\n",
    "scores_X2M2 = cross_val_score(clf2, X2M2_, Y2, cv=10)\n",
    "scores_X2M3 = cross_val_score(clf2, X2M3_, Y2, cv=10)\n",
    "scores_X2M4 = cross_val_score(clf2, X2M4_, Y2, cv=10)\n",
    "scores_X2M5 = cross_val_score(clf2, X2M5_, Y2, cv=10)\n",
    "print('CV error on layer 1',1-sum(scores_X2M1)/10)\n",
    "print('CV error on layer 2',1-sum(scores_X2M2)/10)\n",
    "print('CV error on layer 3',1-sum(scores_X2M3)/10)\n",
    "print('CV error on layer 4',1-sum(scores_X2M4)/10)\n",
    "print('CV error on layer 5',1-sum(scores_X2M5)/10)"
   ]
  },
  {
   "cell_type": "code",
   "execution_count": 54,
   "metadata": {},
   "outputs": [
    {
     "name": "stdout",
     "output_type": "stream",
     "text": [
      "CV error on layer 1 0.5\n",
      "CV error on layer 2 0.49\n",
      "CV error on layer 3 0.4850000000000001\n",
      "CV error on layer 4 0.4850000000000001\n",
      "CV error on layer 5 0.05500000000000005\n"
     ]
    }
   ],
   "source": [
    "clf3 = SVC(gamma ='auto' ,kernel ='rbf', C = 10)\n",
    "scores_X3M1 = cross_val_score(clf3, X3M1_, Y3, cv=10)\n",
    "scores_X3M2 = cross_val_score(clf3, X3M2_, Y3, cv=10)\n",
    "scores_X3M3 = cross_val_score(clf3, X3M3_, Y3, cv=10)\n",
    "scores_X3M4 = cross_val_score(clf3, X3M4_, Y3, cv=10)\n",
    "scores_X3M5 = cross_val_score(clf3, X3M5_, Y3, cv=10)\n",
    "print('CV error on layer 1',1-sum(scores_X3M1)/10)\n",
    "print('CV error on layer 2',1-sum(scores_X3M2)/10)\n",
    "print('CV error on layer 3',1-sum(scores_X3M3)/10)\n",
    "print('CV error on layer 4',1-sum(scores_X3M4)/10)\n",
    "print('CV error on layer 5',1-sum(scores_X3M5)/10)"
   ]
  },
  {
   "cell_type": "code",
   "execution_count": 55,
   "metadata": {},
   "outputs": [
    {
     "name": "stdout",
     "output_type": "stream",
     "text": [
      "CV error on layer 1 0.6599999999999999\n",
      "CV error on layer 2 0.6533333333333333\n",
      "CV error on layer 3 0.6499999999999999\n",
      "CV error on layer 4 0.6566666666666666\n",
      "CV error on layer 5 0.1233333333333334\n"
     ]
    }
   ],
   "source": [
    "clf = SVC(gamma ='auto' ,kernel ='rbf', C = 10)\n",
    "clfm = OneVsOneClassifier(clf)\n",
    "scores_Xtest1 = cross_val_score(clfm, X_train1, Yr, cv=10)\n",
    "scores_Xtest2 = cross_val_score(clfm, X_train2, Yr, cv=10)\n",
    "scores_Xtest3 = cross_val_score(clfm, X_train3, Yr, cv=10)\n",
    "scores_Xtest4 = cross_val_score(clfm, X_train4, Yr, cv=10)\n",
    "scores_Xtest5 = cross_val_score(clfm, X_train5, Yr, cv=10)\n",
    "print('CV error on layer 1',1-sum(scores_Xtest1)/10)\n",
    "print('CV error on layer 2',1-sum(scores_Xtest2)/10)\n",
    "print('CV error on layer 3',1-sum(scores_Xtest3)/10)\n",
    "print('CV error on layer 4',1-sum(scores_Xtest4)/10)\n",
    "print('CV error on layer 5',1-sum(scores_Xtest5)/10)"
   ]
  },
  {
   "cell_type": "markdown",
   "metadata": {},
   "source": [
    "### The final Maxpool layer gives the least error and hence we will use only the final layer i.e Model5 or block_pool5"
   ]
  },
  {
   "cell_type": "code",
   "execution_count": 15,
   "metadata": {},
   "outputs": [],
   "source": [
    "X_test1 = exctractor(X1t,model_M5)\n",
    "X_test2 = exctractor(X2t,model_M5)\n",
    "X_test3 = exctractor(X3t,model_M5)\n",
    "X_test = exctractor(Xe,model_M5)"
   ]
  },
  {
   "cell_type": "code",
   "execution_count": 23,
   "metadata": {},
   "outputs": [],
   "source": [
    "X_test1 = reshapper(X_test1)\n",
    "X_test2 = reshapper(X_test2)\n",
    "X_test3 = reshapper(X_test3)\n",
    "X_test = reshapper(X_test)\n"
   ]
  },
  {
   "cell_type": "code",
   "execution_count": 35,
   "metadata": {},
   "outputs": [],
   "source": [
    "Xpt = exctractor(Xpt,model_M5)\n",
    "Xst = exctractor(Xst,model_M5)\n",
    "Xnt = exctractor(Xnt,model_M5) "
   ]
  },
  {
   "cell_type": "code",
   "execution_count": 36,
   "metadata": {},
   "outputs": [],
   "source": [
    "Xpt = reshapper(Xpt)\n",
    "Xst = reshapper(Xst)\n",
    "Xnt = reshapper(Xnt) "
   ]
  },
  {
   "cell_type": "code",
   "execution_count": 50,
   "metadata": {},
   "outputs": [
    {
     "name": "stdout",
     "output_type": "stream",
     "text": [
      "Error on class 1 (pearlite) 0.07999999999999996\n",
      "Error on class 1 (spherodite) 0.20727272727272728\n",
      "Error on class 2 (pearlite) 0.040000000000000036\n",
      "Error on class 2 (network) 0.06194690265486724\n",
      "Error on class 3 (network) 0.08849557522123896\n",
      "Error on class 3 (spherodite) 0.032727272727272716\n",
      "Error on multiclass (pearlite) 0.07999999999999996\n",
      "Error on multiclass (spherodite) 0.24\n",
      "Error on multiclass (network) 0.09734513274336287\n"
     ]
    }
   ],
   "source": [
    "#test with 1 labels test set\n",
    "\n",
    "\n",
    "e11 = clf1.fit(X1M5_, Y1).score(Xpt,Ypt)\n",
    "e12 = clf1.fit(X1M5_, Y1).score(Xst,Yst)\n",
    "\n",
    "e21 = clf1.fit(X2M5_, Y2).score(Xpt,Ypt)\n",
    "e22 = clf1.fit(X2M5_, Y2).score(Xnt,Ynt)\n",
    "\n",
    "\n",
    "e31 = clf3.fit(X3M5_, Y3).score(Xnt,Ynt)\n",
    "e32 = clf3.fit(X3M5_, Y3).score(Xst,Yst)\n",
    "\n",
    "ept = clfm.fit(X_train5,Yr).score(Xpt,Ypt)\n",
    "est = clfm.fit(X_train5,Yr).score(Xst,Yst)\n",
    "ent = clfm.fit(X_train5,Yr).score(Xnt,Ynt)\n",
    "\n",
    "\n",
    "print('Error on class 1 (pearlite)',1-e11)\n",
    "print('Error on class 1 (spherodite)',1-e12)\n",
    "\n",
    "print('Error on class 2 (pearlite)',1-e21)\n",
    "print('Error on class 2 (network)',1-e22)\n",
    "\n",
    "print('Error on class 3 (network)',1-e31)\n",
    "print('Error on class 3 (spherodite)',1-e32)\n",
    "\n",
    "print('Error on multiclass (pearlite)',1-ept)\n",
    "print('Error on multiclass (spherodite)',1-est)\n",
    "print('Error on multiclass (network)',1-ent)"
   ]
  },
  {
   "cell_type": "code",
   "execution_count": 51,
   "metadata": {},
   "outputs": [
    {
     "name": "stdout",
     "output_type": "stream",
     "text": [
      "Error on class 1 (pearlite & spherodite) 0.19666666666666666\n",
      "Error on class 2 (pearlite & network) 0.05797101449275366\n",
      "Error on class 3 (spherodite & network) 0.0489690721649485\n",
      "Error on multiclass (all) 0.19128329297820823\n",
      "Error on multiclass (pearlite & spherodite) 0.22666666666666668\n",
      "Error on multiclass (pearlite & network) 0.09420289855072461\n",
      "Error on multiclass (spherodite & network) 0.19845360824742264\n"
     ]
    }
   ],
   "source": [
    "#test with 2 and 3 labels test set\n",
    "\n",
    "\n",
    "e1 = clf1.fit(X1M5_, Y1).score(X_test1,Y1t)\n",
    "e2 = clf2.fit(X2M5_, Y2).score(X_test2,Y2t)\n",
    "e3 = clf3.fit(X3M5_, Y3).score(X_test3,Y3t)\n",
    "\n",
    "et = clfm.fit(X_train5,Yr).score(X_test,Ye)\n",
    "\n",
    "epst = clfm.fit(X_train,Yr).score(X_test1,Y1t)\n",
    "epnt = clfm.fit(X_train,Yr).score(X_test2,Y2t)\n",
    "esnt = clfm.fit(X_train,Yr).score(X_test3,Y3t)\n",
    "print('Error on class 1 (pearlite & spherodite)',1-e1)\n",
    "print('Error on class 2 (pearlite & network)',1-e2)\n",
    "print('Error on class 3 (spherodite & network)',1-e3)\n",
    "print('Error on multiclass (all)',1-et)\n",
    "print('Error on multiclass (pearlite & spherodite)',1-epst)\n",
    "print('Error on multiclass (pearlite & network)',1-epnt)\n",
    "print('Error on multiclass (spherodite & network)',1-esnt)"
   ]
  }
 ],
 "metadata": {
  "kernelspec": {
   "display_name": "Python 3",
   "language": "python",
   "name": "python3"
  },
  "language_info": {
   "codemirror_mode": {
    "name": "ipython",
    "version": 3
   },
   "file_extension": ".py",
   "mimetype": "text/x-python",
   "name": "python",
   "nbconvert_exporter": "python",
   "pygments_lexer": "ipython3",
   "version": "3.6.6"
  }
 },
 "nbformat": 4,
 "nbformat_minor": 2
}
