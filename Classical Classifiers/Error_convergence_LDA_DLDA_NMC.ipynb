{
 "cells": [
  {
   "cell_type": "markdown",
   "metadata": {},
   "source": [
    "# Question 3"
   ]
  },
  {
   "cell_type": "code",
   "execution_count": 78,
   "metadata": {},
   "outputs": [],
   "source": [
    "import numpy as np\n",
    "import numpy.matlib\n",
    "from scipy.stats import norm\n",
    "import matplotlib.pyplot as plt\n",
    "%matplotlib inline"
   ]
  },
  {
   "cell_type": "code",
   "execution_count": 79,
   "metadata": {},
   "outputs": [],
   "source": [
    "d = 6\n",
    "def covar(x1,n,Mu):\n",
    "    Y = np.mat(np.array([[0,0,0,0,0,0],[0,0,0,0,0,0],[0,0,0,0,0,0],\n",
    "                         [0,0,0,0,0,0],[0,0,0,0,0,0],[0,0,0,0,0,0]]))\n",
    "    for i in range(n):\n",
    "        xs = np.matrix(x1[0:,i]).T\n",
    "        xn1 = xs - Mu\n",
    "        X = np.mat((xn1))\n",
    "        Y = Y + X*(X.T)\n",
    "    return Y/(n-1) "
   ]
  },
  {
   "cell_type": "code",
   "execution_count": 80,
   "metadata": {},
   "outputs": [],
   "source": [
    "def error(a,b,m0,s0,m1,s1):\n",
    "    a =  np.matrix(a)\n",
    "    b = np.matrix(b)\n",
    "    u0 = np.matrix(m0).T\n",
    "    s0 = np.matrix(s0)\n",
    "    x1n = np.array(np.matmul(a.T, u0) + b)\n",
    "    x1d = np.sqrt(np.array(np.matmul(np.matmul(a.T,s0),a)))\n",
    "    x1err = x1n/x1d\n",
    "\n",
    "    u1 = np.matrix(m1).T\n",
    "    s1 = np.matrix(s1)\n",
    "    x2n = np.array(np.matmul(a.T, u1) + b)\n",
    "    x2d = np.sqrt(np.array(np.matmul(np.matmul(a.T,s1),a)))\n",
    "    x2err = -x2n/x2d \n",
    "    \n",
    "    err = (norm.cdf(x1err) + norm.cdf(x2err))*0.5\n",
    "    return err"
   ]
  },
  {
   "cell_type": "code",
   "execution_count": 81,
   "metadata": {},
   "outputs": [],
   "source": [
    "def LDA(x1,x2,Mu1,Mu2,n11,n22,Mdiff,Madd):\n",
    "    cov1 = covar(x1,n11,Mu1)\n",
    "    cov2 = covar(x2,n22,Mu2)\n",
    "    cov = 0.5*(cov1+cov2)\n",
    "    cov = np.array(cov)\n",
    "    Msigma = np.matrix(cov)\n",
    "    Inv_Msigma = np.linalg.inv(Msigma)\n",
    "    a = (Inv_Msigma*Mdiff)\n",
    "    a = a.tolist()\n",
    "    b = -Mdiff.T*Inv_Msigma*Madd\n",
    "    b = b.tolist()\n",
    "    b = b[0][0]\n",
    "    return a,b\n",
    "\n",
    "def NMC(x1,x2,Mu1,Mu2,n11,n22,Mdiff,Madd):\n",
    "    a = Mu2 - Mu1\n",
    "    a = a.tolist()\n",
    "    b = -Mdiff.T*Madd\n",
    "    b = b.tolist()\n",
    "    b = b[0][0]\n",
    "    return a,b\n",
    "\n",
    "def DLDA(x1,x2,Mu1,Mu2,n11,n22,Mdiff,Madd):\n",
    "    cov1 = covar(x1,n11,Mu1)\n",
    "    cov2 = covar(x2,n22,Mu2)\n",
    "    cov = 0.5*(cov1+cov2)\n",
    "    cov = np.array(cov)\n",
    "    covd = [[cov[0][0],0,0,0,0,0],\n",
    "            [0,cov[1][1],0,0,0,0],\n",
    "            [0,0,cov[2][2],0,0,0],\n",
    "            [0,0,0,cov[3][3],0,0],\n",
    "            [0,0,0,0,cov[4][4],0],\n",
    "            [0,0,0,0,0,cov[5][5]]]\n",
    "\n",
    "    Msigma = np.matrix(covd)\n",
    "    Inv_Msigma = np.linalg.inv(Msigma)\n",
    "    a = Inv_Msigma*Mdiff\n",
    "    a = a.tolist()\n",
    "    b = -Mdiff.T*Inv_Msigma*Madd\n",
    "    b = b.tolist()\n",
    "    b = b[0][0]\n",
    "    return a,b"
   ]
  },
  {
   "cell_type": "code",
   "execution_count": 82,
   "metadata": {},
   "outputs": [],
   "source": [
    "gcovM1 = [[1,0,0,0,0,0],\n",
    "          [0,1,0,0,0,0],\n",
    "          [0,0,1,0,0,0],\n",
    "          [0,0,0,1,0,0],\n",
    "          [0,0,0,0,1,0],\n",
    "          [0,0,0,0,0,1]]\n",
    "gcovM2 = [[1,0.2,0,0,0,0],\n",
    "          [0.2,1,0,0,0,0],\n",
    "          [0,0,1,0.2,0,0],\n",
    "          [0,0,0.2,1,0,0],\n",
    "          [0,0,0,0,1,0.2],\n",
    "          [0,0,0,0,0.2,1]]\n",
    "gcovM3 = [[1,0.2,0.2,0,0,0],\n",
    "          [0.2,1,0.2,0,0,0],\n",
    "          [0.2,0.2,1,0,0,0],\n",
    "          [0,0,0,1,0.2,0.2],\n",
    "          [0,0,0,0.2,1,0.2],\n",
    "          [0,0,0,0.2,0.2,1]]\n",
    "\n",
    "\n",
    "def avg_err(gcov,n11,n22):\n",
    "    errorMl = []\n",
    "    errorMd = []\n",
    "    errorMn = []\n",
    "    for i in range(100):\n",
    "        mean1 = [0,0,0,0,0,0]\n",
    "        mean2 = [1,1,1,1,1,1] \n",
    "        x1 = np.random.multivariate_normal(mean1, gcov, n11).T\n",
    "        x2 = np.random.multivariate_normal(mean2, gcov, n22).T\n",
    "\n",
    "        Mu1 = np.matrix([[np.mean(x1.T[0:,0])],[np.mean(x1.T[0:,1])],[np.mean(x1.T[0:,2])],\n",
    "                          [np.mean(x1.T[0:,3])],[np.mean(x1.T[0:,4])],[np.mean(x1.T[0:,5])]])\n",
    "        Mu1 = Mu1/6\n",
    "        Mu2 = np.matrix([[np.mean(x2.T[0:,0])],[np.mean(x2.T[0:,1])],[np.mean(x2.T[0:,2])],\n",
    "                          [np.mean(x2.T[0:,3])],[np.mean(x2.T[0:,4])],[np.mean(x2.T[0:,5])]])\n",
    "        Mu2 = Mu2/6\n",
    "        Mdiff = Mu2 - Mu1\n",
    "        Madd = 0.5*(Mu1+Mu2)\n",
    "\n",
    "        al,bl = LDA(x1,x2,Mu1,Mu2,n11,n22,Mdiff,Madd)\n",
    "        errorMl.append(error(al,bl,mean1,gcov,mean2,gcov))\n",
    "\n",
    "        ad,bd = DLDA(x1,x2,Mu1,Mu2,n11,n22,Mdiff,Madd)\n",
    "        errorMd.append(error(ad,bd,mean1,gcov,mean2,gcov))\n",
    "\n",
    "        an,bn = NMC(x1,x2,Mu1,Mu2,n11,n22,Mdiff,Madd)\n",
    "        errorMn.append(error(an,bn,mean1,gcov,mean2,gcov))\n",
    "    return np.average(errorMl),np.average(errorMd),np.average(errorMn)\n"
   ]
  },
  {
   "cell_type": "markdown",
   "metadata": {},
   "source": [
    "## Model 1"
   ]
  },
  {
   "cell_type": "code",
   "execution_count": 83,
   "metadata": {},
   "outputs": [
    {
     "data": {
      "image/png": "[encoded data removed]",
      "text/plain": [
       "<Figure size 432x288 with 1 Axes>"
      ]
     },
     "metadata": {
      "needs_background": "light"
     },
     "output_type": "display_data"
    },
    {
     "name": "stdout",
     "output_type": "stream",
     "text": [
      "Error of LDA is [0.35069512056486035, 0.2913831966508251, 0.2797158333417899, 0.2587964530505531, 0.25412632160325305, 0.24978923448612927, 0.24366412266302573]\n",
      "Error of DLDA is [0.23627496561849543, 0.22695445440094464, 0.2238902443900544, 0.2209599396917379, 0.22066564393849325, 0.2201357105952325, 0.21926004839593666]\n",
      "Error of NMC is [0.23320495771434657, 0.225943129242763, 0.2234380558573823, 0.21966161067093065, 0.21975453695292413, 0.21971137388824405, 0.21860238343011154]\n"
     ]
    }
   ],
   "source": [
    "n1 = 5,7,10,12,15,18,20\n",
    "n2 = 5,8,10,13,15,17,20\n",
    "eM1l = []\n",
    "eM1d = []\n",
    "eM1n = []\n",
    "for ni in range(len(n1)):\n",
    "    e = avg_err(gcovM1,n1[ni],n2[ni])\n",
    "    eM1l.append(e[0])\n",
    "    eM1d.append(e[1])\n",
    "    eM1n.append(e[2])\n",
    "    \n",
    "\n",
    "fig = plt.figure()\n",
    "ax = plt.axes()\n",
    "ax.plot(n1, eM1l,'r--',n1 , eM1d,'g--',n1, eM1n ,'b--');\n",
    "plt.style.use('seaborn-whitegrid')\n",
    "plt.title('Model 1: LDA-Red || DLDA-Green || NMC-Blue', fontdict=None, loc='center', pad=None)\n",
    "plt.show()\n",
    "print('Error of LDA is',  eM1l)\n",
    "print('Error of DLDA is', eM1d)\n",
    "print('Error of NMC is',  eM1n)"
   ]
  },
  {
   "cell_type": "markdown",
   "metadata": {},
   "source": [
    "## Model 2"
   ]
  },
  {
   "cell_type": "code",
   "execution_count": 84,
   "metadata": {},
   "outputs": [
    {
     "data": {
      "image/png": "[encoded data removed]",
      "text/plain": [
       "<Figure size 432x288 with 1 Axes>"
      ]
     },
     "metadata": {},
     "output_type": "display_data"
    },
    {
     "name": "stdout",
     "output_type": "stream",
     "text": [
      "Error of LDA is [0.3509230968970119, 0.3151098670969939, 0.28704659686441064, 0.27248780176594956, 0.2593265558056644, 0.2543631319824413, 0.25614644579940316]\n",
      "Error of DLDA is [0.24239271121864644, 0.23474145013328993, 0.23057238605589664, 0.2283509507510529, 0.22736312636655007, 0.22643452677658238, 0.22656082955648946]\n",
      "Error of NMC is [0.23741963163258098, 0.23338304930308226, 0.22927096364697808, 0.22742711596490792, 0.226645539411, 0.2262018287670765, 0.2263059187575682]\n"
     ]
    }
   ],
   "source": [
    "eM2l = []\n",
    "eM2d = []\n",
    "eM2n = []\n",
    "for ni in range(len(n1)):\n",
    "    e = avg_err(gcovM2,n1[ni],n2[ni])\n",
    "    eM2l.append(e[0])\n",
    "    eM2d.append(e[1])\n",
    "    eM2n.append(e[2])\n",
    "    \n",
    "\n",
    "fig = plt.figure()\n",
    "ax = plt.axes()\n",
    "ax.plot(n2, eM2l,'r--', n2 , eM2d,'g--',n2 , eM2n ,'b--');\n",
    "plt.style.use('seaborn-whitegrid')\n",
    "plt.title('Model 2: LDA-Red || DLDA-Green || NMC-Blue', fontdict=None, loc='center', pad=None)\n",
    "plt.show()\n",
    "print('Error of LDA is',  eM2l)\n",
    "print('Error of DLDA is', eM2d)\n",
    "print('Error of NMC is',  eM2n)"
   ]
  },
  {
   "cell_type": "markdown",
   "metadata": {},
   "source": [
    "## Model 3"
   ]
  },
  {
   "cell_type": "code",
   "execution_count": 85,
   "metadata": {},
   "outputs": [
    {
     "data": {
      "image/png": "[encoded data removed]",
      "text/plain": [
       "<Figure size 432x288 with 1 Axes>"
      ]
     },
     "metadata": {},
     "output_type": "display_data"
    },
    {
     "name": "stdout",
     "output_type": "stream",
     "text": [
      "Error of LDA is [0.3668598332267766, 0.3155647864641221, 0.299438742250547, 0.28310377362429706, 0.27150863564869465, 0.26633544523881003, 0.26229818228911944]\n",
      "Error of DLDA is [0.24335789867301025, 0.2391659645231434, 0.23800338990264933, 0.23529819718091818, 0.23423709624982147, 0.2333313660824582, 0.2333727600127646]\n",
      "Error of NMC is [0.24159250284690936, 0.23880141280558626, 0.23743263490002575, 0.23449881863632738, 0.2337518617146092, 0.232998469080432, 0.23305183541903995]\n"
     ]
    }
   ],
   "source": [
    "eM3l = []\n",
    "eM3d = []\n",
    "eM3n = []\n",
    "for ni in range(len(n1)):\n",
    "    e = avg_err(gcovM3,n1[ni],n2[ni])\n",
    "    eM3l.append(e[0])\n",
    "    eM3d.append(e[1])\n",
    "    eM3n.append(e[2])\n",
    "    \n",
    "\n",
    "fig = plt.figure()\n",
    "ax = plt.axes()\n",
    "ax.plot(n2, eM3l,'r--', n2 , eM3d,'g--',n2 , eM3n ,'b--');\n",
    "plt.style.use('seaborn-whitegrid')\n",
    "plt.title('Model 3: LDA-Red || DLDA-Green || NMC-Blue', fontdict=None, loc='center', pad=None)\n",
    "plt.show()\n",
    "print('Error of LDA is',  eM3l)\n",
    "print('Error of DLDA is', eM3d)\n",
    "print('Error of NMC is',  eM3n)"
   ]
  },
  {
   "cell_type": "markdown",
   "metadata": {},
   "source": [
    "### Interpretations: In all the cases the error reduces with the increase in number of sample size."
   ]
  }
 ],
 "metadata": {
  "kernelspec": {
   "display_name": "Python 3",
   "language": "python",
   "name": "python3"
  },
  "language_info": {
   "codemirror_mode": {
    "name": "ipython",
    "version": 3
   },
   "file_extension": ".py",
   "mimetype": "text/x-python",
   "name": "python",
   "nbconvert_exporter": "python",
   "pygments_lexer": "ipython3",
   "version": "3.6.6"
  }
 },
 "nbformat": 4,
 "nbformat_minor": 2
}
