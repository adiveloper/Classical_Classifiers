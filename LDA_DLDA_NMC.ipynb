{
 "cells": [
  {
   "cell_type": "code",
   "execution_count": 16,
   "metadata": {},
   "outputs": [],
   "source": [
    "import numpy as np\n",
    "import matplotlib.pyplot as plt\n",
    "%matplotlib inline"
   ]
  },
  {
   "cell_type": "code",
   "execution_count": 17,
   "metadata": {},
   "outputs": [
    {
     "data": {
      "text/plain": [
       "1"
      ]
     },
     "execution_count": 17,
     "metadata": {},
     "output_type": "execute_result"
    }
   ],
   "source": [
    "np.random.seed(seed = 2)\n",
    "mean1 = [0, 0]\n",
    "mean2 = [1, 1]\n",
    "cov = [[1, 0], [0, 1]]\n",
    "x1, y1 = np.random.multivariate_normal(mean1, cov, 10).T\n",
    "x2, y2 = np.random.multivariate_normal(mean2, cov, 10).T\n",
    "cov[1][1]"
   ]
  },
  {
   "cell_type": "code",
   "execution_count": 18,
   "metadata": {},
   "outputs": [],
   "source": [
    "Mux1 = np.mean(x1)\n",
    "Muy1 = np.mean(y1)\n",
    "Mu1 = np.matrix([[Mux1],[Muy1]])\n",
    "Mux2 = np.mean(x2)\n",
    "Muy2 = np.mean(y2)\n",
    "Mu2 = np.matrix([[Mux2],[Muy2]])\n",
    "Mdiff = Mu2 - Mu1\n",
    "Madd = 0.5*(Mu1+Mu2)\n",
    "\n",
    "def LDA(x1,y1,x2,y2,cov):\n",
    "    Msigma = np.matrix(cov)\n",
    "    Inv_Msigma = np.linalg.inv(Msigma)\n",
    "\n",
    "    a = (Inv_Msigma*Mdiff)\n",
    "    a = a.tolist()\n",
    "    a1 = a[0][0]\n",
    "    a2 = a[1][0]\n",
    "    b = -Mdiff.T*Inv_Msigma*Madd\n",
    "    b = b.tolist()\n",
    "    b = b[0][0]\n",
    "    return a1,a2,b\n",
    "    \n",
    "def DLDA(x1,y1,x2,y2,cov):\n",
    "    covd = [[cov[0][0], 0], [0, cov[1][1]]]\n",
    "    Msigma = np.matrix(covd)\n",
    "    Inv_Msigma = np.linalg.inv(Msigma)\n",
    "    \n",
    "    \n",
    "    a = Inv_Msigma*(Mu2 - Mu1)\n",
    "    a = a.tolist()\n",
    "    a1 = a[0][0]\n",
    "    a2 = a[1][0]\n",
    "    b = -Mdiff.T*Inv_Msigma*Madd\n",
    "    b = b.tolist()\n",
    "    b = b[0][0]\n",
    "    return a1,a2,b\n",
    "    \n",
    "    \n",
    "def NMC(x1,y1,x2,y2,cov):\n",
    "    a = Mu2 - Mu1\n",
    "    a = a.tolist()\n",
    "    a1 = a[0][0]\n",
    "    a2 = a[1][0]\n",
    "    b = -Mdiff.T*Madd\n",
    "    b = b.tolist()\n",
    "    b = b[0][0]\n",
    "    return a1,a2,b"
   ]
  },
  {
   "cell_type": "markdown",
   "metadata": {},
   "source": [
    "### Part1 M1"
   ]
  },
  {
   "cell_type": "code",
   "execution_count": 19,
   "metadata": {},
   "outputs": [
    {
     "data": {
      "image/png": "[encoded data removed]",
      "text/plain": [
       "<Figure size 432x288 with 1 Axes>"
      ]
     },
     "metadata": {
      "needs_background": "light"
     },
     "output_type": "display_data"
    },
    {
     "name": "stdout",
     "output_type": "stream",
     "text": [
      "0.9685665338784896 1.0329251040268972 -0.5993099747169531 0.9685665338784896 1.0329251040268972 -0.5993099747169531\n"
     ]
    }
   ],
   "source": [
    "al1,al2,bl = LDA(x1,y1,x2,y2,cov)\n",
    "ad1,ad2,bd = DLDA(x1,y1,x2,y2,cov)\n",
    "an1,an2,bn = NMC(x1,y1,x2,y2,cov)\n",
    "\n",
    "fig = plt.figure()\n",
    "ax = plt.axes()\n",
    "\n",
    "x = np.linspace(-3, 3, 100)\n",
    "yl = -1*(al1*x + bl)/(al2)\n",
    "\n",
    "\n",
    "yd = -1*(ad1*x + bd)/(ad2)\n",
    "\n",
    "\n",
    "yn = -1*(an1*x + bn)/(an2)\n",
    "\n",
    "ax.plot(x, yd,'r--',x, yl ,'g--',x, yn ,'b--');\n",
    "\n",
    "\n",
    "plt.plot(x1, y1, 'o')\n",
    "plt.plot(x2,y2,'x')\n",
    "\n",
    "plt.style.use('seaborn-whitegrid')\n",
    "plt.show()\n",
    "\n",
    "print(al1,al2,bl, ad1,ad2,bd)"
   ]
  },
  {
   "cell_type": "markdown",
   "metadata": {},
   "source": [
    "### Part 2 M2"
   ]
  },
  {
   "cell_type": "code",
   "execution_count": 20,
   "metadata": {},
   "outputs": [],
   "source": [
    "np.random.seed(seed = 2)\n",
    "mean1 = [0, 0]\n",
    "mean2 = [1, 1]\n",
    "cov2 = [[1, 0.2], [0.2, 1]]\n",
    "x3, y3 = np.random.multivariate_normal(mean1, cov, 10).T\n",
    "x4, y4 = np.random.multivariate_normal(mean2, cov, 10).T"
   ]
  },
  {
   "cell_type": "code",
   "execution_count": 21,
   "metadata": {},
   "outputs": [
    {
     "data": {
      "image/png": "[encoded data removed]",
      "text/plain": [
       "<Figure size 432x288 with 1 Axes>"
      ]
     },
     "metadata": {},
     "output_type": "display_data"
    },
    {
     "name": "stdout",
     "output_type": "stream",
     "text": [
      "0.7937307427844897 0.8741789554699994 -0.5064083036253234 0.9685665338784896 1.0329251040268972 -0.5993099747169531 0.9685665338784896 1.0329251040268972 -0.5993099747169531\n"
     ]
    }
   ],
   "source": [
    "al12,al22,bl2 = LDA(x3,y3,x4,y4,cov2)\n",
    "ad12,ad22,bd2 = DLDA(x3,y3,x4,y4,cov2)\n",
    "an12,an22,bn2 = NMC(x3,y3,x4,y4,cov2)\n",
    "\n",
    "fig = plt.figure()\n",
    "ax = plt.axes()\n",
    "\n",
    "xl = np.linspace(-3, 3, 100)\n",
    "yl = -1*(al12*x + bl2)/(al22)\n",
    "\n",
    "\n",
    "xd = np.linspace(-3, 3, 100)\n",
    "yd = -1*(ad12*x + bd2)/(ad22)\n",
    "\n",
    "xn = np.linspace(-3, 3, 100)\n",
    "yn = -1*(an12*x + bn2)/(an22)\n",
    "\n",
    "ax.plot(xd, yd,'r--',xl, yl ,'g--',xn, yn ,'b--');\n",
    "\n",
    "\n",
    "plt.plot(x3, y3, 'o')\n",
    "plt.plot(x4,y4,'x')\n",
    "\n",
    "plt.style.use('seaborn-whitegrid')\n",
    "plt.show()\n",
    "\n",
    "print(al12,al22,bl2, ad12,ad22,bd2,an12,an22,bn2)"
   ]
  },
  {
   "cell_type": "code",
   "execution_count": null,
   "metadata": {},
   "outputs": [],
   "source": [
    "0.7937307427844897 0.8741789554699994 -0.5064083036253234 0.9685665338784896 1.0329251040268972 -0.5993099747169531 0.9685665338784896 1.0329251040268972 -0.5993099747169531"
   ]
  }
 ],
 "metadata": {
  "kernelspec": {
   "display_name": "Python 3",
   "language": "python",
   "name": "python3"
  },
  "language_info": {
   "codemirror_mode": {
    "name": "ipython",
    "version": 3
   },
   "file_extension": ".py",
   "mimetype": "text/x-python",
   "name": "python",
   "nbconvert_exporter": "python",
   "pygments_lexer": "ipython3",
   "version": "3.6.6"
  }
 },
 "nbformat": 4,
 "nbformat_minor": 2
}
