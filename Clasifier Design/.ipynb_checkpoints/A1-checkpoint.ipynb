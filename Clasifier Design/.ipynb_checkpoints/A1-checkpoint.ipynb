{
 "cells": [
  {
   "cell_type": "code",
   "execution_count": 1,
   "metadata": {},
   "outputs": [],
   "source": [
    "import pandas as pd\n",
    "import numpy as np\n",
    "from itertools import combinations\n",
    "from sklearn import preprocessing\n",
    "from sklearn.svm import LinearSVC,SVC\n",
    "from sklearn.datasets import make_classification\n",
    "from sklearn.model_selection import cross_val_score,train_test_split\n",
    "from sklearn.neural_network import MLPClassifier\n"
   ]
  },
  {
   "cell_type": "code",
   "execution_count": 2,
   "metadata": {},
   "outputs": [
    {
     "data": {
      "text/html": [
       "<div>\n",
       "<style scoped>\n",
       "    .dataframe tbody tr th:only-of-type {\n",
       "        vertical-align: middle;\n",
       "    }\n",
       "\n",
       "    .dataframe tbody tr th {\n",
       "        vertical-align: top;\n",
       "    }\n",
       "\n",
       "    .dataframe thead th {\n",
       "        text-align: right;\n",
       "    }\n",
       "</style>\n",
       "<table border=\"1\" class=\"dataframe\">\n",
       "  <thead>\n",
       "    <tr style=\"text-align: right;\">\n",
       "      <th></th>\n",
       "      <th>Sample_Number</th>\n",
       "      <th>AL080059</th>\n",
       "      <th>Contig63649_RC</th>\n",
       "      <th>Contig46218_RC</th>\n",
       "      <th>LOC51203</th>\n",
       "      <th>AA555029_RC</th>\n",
       "      <th>ALDH4</th>\n",
       "      <th>Contig38288_RC</th>\n",
       "      <th>FGF18</th>\n",
       "      <th>Contig28552_RC</th>\n",
       "      <th>...</th>\n",
       "      <th>AKAP2</th>\n",
       "      <th>Contig63102_RC</th>\n",
       "      <th>PRC1</th>\n",
       "      <th>Contig20217_RC</th>\n",
       "      <th>CENPA</th>\n",
       "      <th>SM.20</th>\n",
       "      <th>CCNE2</th>\n",
       "      <th>ESM1</th>\n",
       "      <th>FLJ11190</th>\n",
       "      <th>Label</th>\n",
       "    </tr>\n",
       "  </thead>\n",
       "  <tbody>\n",
       "    <tr>\n",
       "      <th>0</th>\n",
       "      <td>138</td>\n",
       "      <td>-0.227</td>\n",
       "      <td>-0.107</td>\n",
       "      <td>-0.086</td>\n",
       "      <td>-0.057</td>\n",
       "      <td>0.073</td>\n",
       "      <td>0.021</td>\n",
       "      <td>-0.002</td>\n",
       "      <td>0.135</td>\n",
       "      <td>-0.071</td>\n",
       "      <td>...</td>\n",
       "      <td>0.121</td>\n",
       "      <td>-0.187</td>\n",
       "      <td>-0.200</td>\n",
       "      <td>-0.127</td>\n",
       "      <td>-0.277</td>\n",
       "      <td>0.036</td>\n",
       "      <td>-0.095</td>\n",
       "      <td>0.123</td>\n",
       "      <td>-0.211</td>\n",
       "      <td>0</td>\n",
       "    </tr>\n",
       "    <tr>\n",
       "      <th>1</th>\n",
       "      <td>184</td>\n",
       "      <td>0.044</td>\n",
       "      <td>-0.031</td>\n",
       "      <td>0.381</td>\n",
       "      <td>0.226</td>\n",
       "      <td>-0.038</td>\n",
       "      <td>-0.167</td>\n",
       "      <td>0.103</td>\n",
       "      <td>-0.330</td>\n",
       "      <td>0.420</td>\n",
       "      <td>...</td>\n",
       "      <td>0.029</td>\n",
       "      <td>0.033</td>\n",
       "      <td>0.333</td>\n",
       "      <td>0.303</td>\n",
       "      <td>0.058</td>\n",
       "      <td>0.406</td>\n",
       "      <td>0.266</td>\n",
       "      <td>-0.129</td>\n",
       "      <td>-0.219</td>\n",
       "      <td>0</td>\n",
       "    </tr>\n",
       "    <tr>\n",
       "      <th>2</th>\n",
       "      <td>127</td>\n",
       "      <td>0.151</td>\n",
       "      <td>-0.210</td>\n",
       "      <td>0.034</td>\n",
       "      <td>0.037</td>\n",
       "      <td>-0.065</td>\n",
       "      <td>-0.048</td>\n",
       "      <td>-0.026</td>\n",
       "      <td>-0.425</td>\n",
       "      <td>0.204</td>\n",
       "      <td>...</td>\n",
       "      <td>-0.200</td>\n",
       "      <td>-0.070</td>\n",
       "      <td>0.166</td>\n",
       "      <td>-0.002</td>\n",
       "      <td>0.076</td>\n",
       "      <td>-0.027</td>\n",
       "      <td>0.278</td>\n",
       "      <td>-0.160</td>\n",
       "      <td>-0.144</td>\n",
       "      <td>0</td>\n",
       "    </tr>\n",
       "    <tr>\n",
       "      <th>3</th>\n",
       "      <td>166</td>\n",
       "      <td>0.335</td>\n",
       "      <td>-0.031</td>\n",
       "      <td>0.177</td>\n",
       "      <td>0.165</td>\n",
       "      <td>-0.372</td>\n",
       "      <td>0.340</td>\n",
       "      <td>0.112</td>\n",
       "      <td>-0.506</td>\n",
       "      <td>0.213</td>\n",
       "      <td>...</td>\n",
       "      <td>-0.251</td>\n",
       "      <td>-0.040</td>\n",
       "      <td>0.058</td>\n",
       "      <td>0.074</td>\n",
       "      <td>0.309</td>\n",
       "      <td>-0.227</td>\n",
       "      <td>0.186</td>\n",
       "      <td>0.104</td>\n",
       "      <td>0.214</td>\n",
       "      <td>0</td>\n",
       "    </tr>\n",
       "    <tr>\n",
       "      <th>4</th>\n",
       "      <td>318</td>\n",
       "      <td>-0.098</td>\n",
       "      <td>-0.492</td>\n",
       "      <td>-0.307</td>\n",
       "      <td>-0.097</td>\n",
       "      <td>-0.024</td>\n",
       "      <td>0.197</td>\n",
       "      <td>-0.001</td>\n",
       "      <td>0.369</td>\n",
       "      <td>-0.318</td>\n",
       "      <td>...</td>\n",
       "      <td>-0.003</td>\n",
       "      <td>0.178</td>\n",
       "      <td>-0.453</td>\n",
       "      <td>-0.285</td>\n",
       "      <td>-0.265</td>\n",
       "      <td>-0.237</td>\n",
       "      <td>-0.335</td>\n",
       "      <td>-0.603</td>\n",
       "      <td>-0.116</td>\n",
       "      <td>0</td>\n",
       "    </tr>\n",
       "  </tbody>\n",
       "</table>\n",
       "<p>5 rows × 72 columns</p>\n",
       "</div>"
      ],
      "text/plain": [
       "   Sample_Number  AL080059  Contig63649_RC  Contig46218_RC  LOC51203  \\\n",
       "0            138    -0.227          -0.107          -0.086    -0.057   \n",
       "1            184     0.044          -0.031           0.381     0.226   \n",
       "2            127     0.151          -0.210           0.034     0.037   \n",
       "3            166     0.335          -0.031           0.177     0.165   \n",
       "4            318    -0.098          -0.492          -0.307    -0.097   \n",
       "\n",
       "   AA555029_RC  ALDH4  Contig38288_RC  FGF18  Contig28552_RC  ...    AKAP2  \\\n",
       "0        0.073  0.021          -0.002  0.135          -0.071  ...    0.121   \n",
       "1       -0.038 -0.167           0.103 -0.330           0.420  ...    0.029   \n",
       "2       -0.065 -0.048          -0.026 -0.425           0.204  ...   -0.200   \n",
       "3       -0.372  0.340           0.112 -0.506           0.213  ...   -0.251   \n",
       "4       -0.024  0.197          -0.001  0.369          -0.318  ...   -0.003   \n",
       "\n",
       "   Contig63102_RC   PRC1  Contig20217_RC  CENPA  SM.20  CCNE2   ESM1  \\\n",
       "0          -0.187 -0.200          -0.127 -0.277  0.036 -0.095  0.123   \n",
       "1           0.033  0.333           0.303  0.058  0.406  0.266 -0.129   \n",
       "2          -0.070  0.166          -0.002  0.076 -0.027  0.278 -0.160   \n",
       "3          -0.040  0.058           0.074  0.309 -0.227  0.186  0.104   \n",
       "4           0.178 -0.453          -0.285 -0.265 -0.237 -0.335 -0.603   \n",
       "\n",
       "   FLJ11190  Label  \n",
       "0    -0.211      0  \n",
       "1    -0.219      0  \n",
       "2    -0.144      0  \n",
       "3     0.214      0  \n",
       "4    -0.116      0  \n",
       "\n",
       "[5 rows x 72 columns]"
      ]
     },
     "execution_count": 2,
     "metadata": {},
     "output_type": "execute_result"
    }
   ],
   "source": [
    "data = pd.read_csv('Assign1_Training_Data.txt',delimiter=\"\\t\")\n",
    "data.head()\n",
    "d = np.asarray(data)\n",
    "data.head()"
   ]
  },
  {
   "cell_type": "code",
   "execution_count": 6,
   "metadata": {},
   "outputs": [
    {
     "name": "stdout",
     "output_type": "stream",
     "text": [
      "Number of  0 class in Test set is = 39\n",
      "Number of  1 class in Test set is 176\n",
      "Number of  Total classes in Test set is= 215\n"
     ]
    },
    {
     "data": {
      "text/plain": [
       "215"
      ]
     },
     "execution_count": 6,
     "metadata": {},
     "output_type": "execute_result"
    }
   ],
   "source": [
    "data_testing = pd.read_csv('Assign1_Testing_Data.txt',delimiter=\"\\t\")\n",
    "d_test = np.asarray(data_testing)\n",
    "Y_test =   d_test[:,-1]\n",
    "X_test =   d_test[:,0:71]\n",
    "X_test = preprocessing.scale(X_test)\n",
    "\n",
    "x0_test = []\n",
    "y0_test = []\n",
    "x1_test = []\n",
    "y1_test = []\n",
    "for i in range(len(Y_test)):\n",
    "    if Y_test[i]==0:\n",
    "        x0_test.append(X_test[i])\n",
    "        y0_test.append(Y_test[i])\n",
    "    else:\n",
    "        x1_test.append(X_test[i])\n",
    "        y1_test.append(Y_test[i])\n",
    "        \n",
    "print('Number of  0 class in Test set is =',len(x0_test))\n",
    "print('Number of  1 class in Test set is',len(x1_test))\n",
    "print('Number of  Total classes in Test set is=',len(X_test))\n",
    "len(data_testing)"
   ]
  },
  {
   "cell_type": "code",
   "execution_count": 7,
   "metadata": {},
   "outputs": [
    {
     "name": "stdout",
     "output_type": "stream",
     "text": [
      "Some Features -->  [[-0.77252615 -0.36417786 -0.24952706]\n",
      " [-0.35029294  0.44660218  0.06660641]\n",
      " [-0.87349496  0.76672567 -0.6779711 ]\n",
      " [-0.51551463  1.31721839  0.06660641]\n",
      " [ 0.87969078  0.02176541 -1.85099266]]\n",
      "(80,)\n",
      "Number of  0 class in Train set is 40\n",
      "Number of  1 class in Train set is 40\n",
      "Number of  Total classes in Train set is 80\n"
     ]
    }
   ],
   "source": [
    "Y =   d[:,-1]\n",
    "X =   d[:,0:71]\n",
    "X = preprocessing.scale(X)\n",
    "print('Some Features --> ',X[0:5,0:3])\n",
    "p = np.vstack((X[:,0], X[:,1],X[:,2])).T\n",
    "print(X[:,2].shape)\n",
    "#p = np.vstack((p, )).T\n",
    "#p.shape\n",
    "#X.shape\n",
    "#p\n",
    "x0 = []\n",
    "y0 = []\n",
    "x1 = []\n",
    "y1 = []\n",
    "for i in range(len(Y)):\n",
    "    if Y[i]==0:\n",
    "        x0.append(X[i])\n",
    "        y0.append(Y[i])\n",
    "    else:\n",
    "        x1.append(X[i])\n",
    "        y1.append(Y[i])\n",
    "        \n",
    "print('Number of  0 class in Train set is',len(x0))\n",
    "print('Number of  1 class in Train set is',len(x1))\n",
    "print('Number of  Total classes in Train set is',len(X))"
   ]
  },
  {
   "cell_type": "code",
   "execution_count": 8,
   "metadata": {},
   "outputs": [],
   "source": [
    "def fs_es(X,Y,clf):\n",
    "    c = X.shape[1] \n",
    "    temp_e = np.inf\n",
    "    e = 0\n",
    "    for i in range(c):\n",
    "        for j in range(i+1,c):\n",
    "            x = np.vstack((X[:,i], X[:,j])).T\n",
    "            y = Y\n",
    "            X_train, X_test, y_train, y_test = train_test_split(x,y, test_size=0.2, random_state=0)\n",
    "            e = clf.fit(X_train, y_train).score(X_test, y_test)  \n",
    "            #print(e)\n",
    "            if e < temp_e:\n",
    "                index1 = i\n",
    "                index2 = j\n",
    "                temp_e = e    \n",
    "    return temp_e,index1,index2        "
   ]
  },
  {
   "cell_type": "code",
   "execution_count": 9,
   "metadata": {},
   "outputs": [],
   "source": [
    "def fs_sfs3(X,Y,ind1,ind2,clf):\n",
    "    c = X.shape[1] \n",
    "    \n",
    "    temp_e = np.inf\n",
    "    e = 0\n",
    "    for i in range(c):\n",
    "        if (i != ind1 and i != ind2):\n",
    "            x = np.vstack((X[:,ind1], X[:,ind2], X[:,i])).T\n",
    "            y = Y\n",
    "            X_train, X_test, y_train, y_test = train_test_split(x,y, test_size=0.0, random_state=0)\n",
    "            e = clf.fit(X_train, y_train).score(X_train, y_train)  \n",
    "            #print(e)\n",
    "            if e < temp_e:\n",
    "                index = i\n",
    "                temp_e = e    \n",
    "    return temp_e,index        "
   ]
  },
  {
   "cell_type": "code",
   "execution_count": 10,
   "metadata": {},
   "outputs": [],
   "source": [
    "def fs_sfs4(X,Y,ind1,ind2,ind3,clf):\n",
    "    c = X.shape[1] \n",
    "    \n",
    "    temp_e = np.inf\n",
    "    e = 0\n",
    "    for i in range(c):\n",
    "        if (i != ind1 and i != ind2 and i != ind3):\n",
    "            x = np.vstack((X[:,ind1], X[:,ind2], X[:,ind3],X[:,i])).T\n",
    "            y = Y\n",
    "            X_train, X_test, y_train, y_test = train_test_split(x,y, test_size=0.0, random_state=0)\n",
    "            e = clf.fit(X_train, y_train).score(X_train, y_train)    \n",
    "            #print(e)\n",
    "            if e < temp_e:\n",
    "                index = i\n",
    "                temp_e = e    \n",
    "    return temp_e,index   "
   ]
  },
  {
   "cell_type": "code",
   "execution_count": 11,
   "metadata": {},
   "outputs": [],
   "source": [
    "def fs_sfs5(X,Y,ind1,ind2,ind3,ind4,clf):\n",
    "    c = X.shape[1] \n",
    "    \n",
    "    temp_e = np.inf\n",
    "    e = 0\n",
    "    for i in range(c):\n",
    "        if (i != ind1 and i != ind2 and i != ind3 and i != ind4):\n",
    "            x = np.vstack((X[:,ind1], X[:,ind2], X[:,ind3],X[:,ind4],X[:,i])).T\n",
    "            y = Y\n",
    "            X_train, X_test, y_train, y_test = train_test_split(x,y, test_size=0.0, random_state=0)\n",
    "            e = clf.fit(X_train, y_train).score(X_train, y_train)  \n",
    "            #print(e)\n",
    "            if e < temp_e:\n",
    "                index = i\n",
    "                temp_e = e    \n",
    "    return temp_e,index   "
   ]
  },
  {
   "cell_type": "markdown",
   "metadata": {},
   "source": [
    "#### Linear SVM 2-feature selection extraction "
   ]
  },
  {
   "cell_type": "code",
   "execution_count": 12,
   "metadata": {},
   "outputs": [
    {
     "name": "stdout",
     "output_type": "stream",
     "text": [
      "min error =  0.125 \n",
      "Feature 1 =  5  Feature 2 =  12\n"
     ]
    }
   ],
   "source": [
    "clf_svmL = SVC(kernel='linear', C=1)\n",
    "e,feature1_svmL,feature2_svmL = fs_es(X,Y,clf_svmL)\n",
    "\n",
    "print('min error = ',e,'\\nFeature 1 = ', feature1_svmL,' Feature 2 = ',feature2_svmL)"
   ]
  },
  {
   "cell_type": "markdown",
   "metadata": {},
   "source": [
    "#### Linear SVM 3-feature selection sequential forward search "
   ]
  },
  {
   "cell_type": "code",
   "execution_count": 13,
   "metadata": {},
   "outputs": [
    {
     "name": "stdout",
     "output_type": "stream",
     "text": [
      "min error =  0.5 \n",
      "Feature 1 =  5  Feature 2 =  12  Feature 3 =  14\n"
     ]
    }
   ],
   "source": [
    "e,feature3_svmL = fs_sfs3(X,Y,feature1_svmL,feature2_svmL,clf_svmL)\n",
    "print('min error = ',e,'\\nFeature 1 = ', feature1_svmL,' Feature 2 = ',feature2_svmL,' Feature 3 = ',feature3_svmL)"
   ]
  },
  {
   "cell_type": "markdown",
   "metadata": {},
   "source": [
    "#### Linear SVM 4-feature selection sequential forward search "
   ]
  },
  {
   "cell_type": "code",
   "execution_count": 16,
   "metadata": {},
   "outputs": [
    {
     "name": "stdout",
     "output_type": "stream",
     "text": [
      "min error =  0.4875 \n",
      "Feature 1 =  5  Feature 2 =  12  Feature 3 =  14  Feature 4 =  1\n"
     ]
    }
   ],
   "source": [
    "e,feature4_svmL = fs_sfs4(X,Y,feature1_svmL,feature2_svmL,feature3_svmL,clf_svmL)\n",
    "print('min error = ',e,'\\nFeature 1 = ', feature1_svmL,' Feature 2 = ',feature2_svmL,' Feature 3 = ',feature3_svmL,\n",
    "      ' Feature 4 = ',feature4_svmL)"
   ]
  },
  {
   "cell_type": "markdown",
   "metadata": {},
   "source": [
    "#### Linear SVM 5-feature selection sequential forward search "
   ]
  },
  {
   "cell_type": "code",
   "execution_count": 17,
   "metadata": {},
   "outputs": [
    {
     "name": "stdout",
     "output_type": "stream",
     "text": [
      "min error =  0.4875 \n",
      "Feature 1 =  5  Feature 2 =  12  Feature 3 =  14  Feature 4 =  1  Feature 5 =  34\n"
     ]
    }
   ],
   "source": [
    "e,feature5_svmL = fs_sfs5(X,Y,feature1_svmL,feature2_svmL,feature3_svmL,feature4_svmL,clf_svmL)\n",
    "print('min error = ',e,'\\nFeature 1 = ', feature1_svmL,' Feature 2 = ',feature2_svmL,' Feature 3 = ',feature3_svmL,\n",
    "      ' Feature 4 = ',feature4_svmL,' Feature 5 = ',feature5_svmL)"
   ]
  },
  {
   "cell_type": "markdown",
   "metadata": {},
   "source": [
    "#### Non-Linear SVM 2-feature selection extraction "
   ]
  },
  {
   "cell_type": "code",
   "execution_count": 20,
   "metadata": {},
   "outputs": [
    {
     "name": "stdout",
     "output_type": "stream",
     "text": [
      "min error =  0.0625 \n",
      "Feature 1 =  22  Feature 2 =  27\n"
     ]
    }
   ],
   "source": [
    "clf_svmNL = SVC(gamma ='auto' ,kernel='rbf', C=10)\n",
    "e,feature1_svmNL,feature2_svmNL = fs_es(X,Y,clf_svmNL)\n",
    "print('min error = ',e,'\\nFeature 1 = ', feature1_svmNL,' Feature 2 = ',feature2_svmNL)"
   ]
  },
  {
   "cell_type": "markdown",
   "metadata": {},
   "source": [
    "#### Non Linear SVM 3-feature selection sequential forward search "
   ]
  },
  {
   "cell_type": "code",
   "execution_count": 21,
   "metadata": {},
   "outputs": [
    {
     "name": "stdout",
     "output_type": "stream",
     "text": [
      "min error =  0.725 \n",
      "Feature 1 =  22  Feature 2 =  27  Feature 3 =  26\n"
     ]
    }
   ],
   "source": [
    "e,feature3_svmNL = fs_sfs3(X,Y,feature1_svmNL,feature2_svmNL,clf_svmNL)\n",
    "print('min error = ',e,'\\nFeature 1 = ', feature1_svmNL,' Feature 2 = ',feature2_svmNL,' Feature 3 = ',feature3_svmNL)"
   ]
  },
  {
   "cell_type": "markdown",
   "metadata": {},
   "source": [
    "#### Non Linear SVM 4-feature selection sequential forward search "
   ]
  },
  {
   "cell_type": "code",
   "execution_count": 23,
   "metadata": {},
   "outputs": [
    {
     "name": "stdout",
     "output_type": "stream",
     "text": [
      "min error =  0.7625 \n",
      "Feature 1 =  22  Feature 2 =  27  Feature 3 =  26  Feature 4 =  56\n"
     ]
    }
   ],
   "source": [
    "e,feature4_svmNL = fs_sfs4(X,Y,feature1_svmNL,feature2_svmNL,feature3_svmNL,clf_svmNL)\n",
    "print('min error = ',e,'\\nFeature 1 = ', feature1_svmNL,' Feature 2 = ',feature2_svmNL,' Feature 3 = ',feature3_svmNL,\n",
    "      ' Feature 4 = ',feature4_svmNL)"
   ]
  },
  {
   "cell_type": "markdown",
   "metadata": {},
   "source": [
    "#### Non Linear SVM 5-feature selection sequential forward search  "
   ]
  },
  {
   "cell_type": "code",
   "execution_count": 25,
   "metadata": {},
   "outputs": [
    {
     "name": "stdout",
     "output_type": "stream",
     "text": [
      "min error =  0.8375 \n",
      "Feature 1 =  22  Feature 2 =  27  Feature 3 =  26  Feature 4 =  56  Feature 5 =  8\n"
     ]
    }
   ],
   "source": [
    "e,feature5_svmNL = fs_sfs5(X,Y,feature1_svmNL,feature2_svmNL,feature3_svmNL,feature4_svmNL,clf_svmNL)\n",
    "print('min error = ',e,'\\nFeature 1 = ', feature1_svmNL,' Feature 2 = ',feature2_svmNL,' Feature 3 = ',feature3_svmNL,\n",
    "      ' Feature 4 = ',feature4_svmNL,' Feature 5 = ',feature5_svmNL)"
   ]
  },
  {
   "cell_type": "markdown",
   "metadata": {},
   "source": [
    "#### Neural Network 2-feature selection extraction search"
   ]
  },
  {
   "cell_type": "code",
   "execution_count": 26,
   "metadata": {},
   "outputs": [
    {
     "name": "stdout",
     "output_type": "stream",
     "text": [
      "min error =  0.125 \n",
      "Feature 1 =  2  Feature 2 =  62\n"
     ]
    }
   ],
   "source": [
    "clf_nn = MLPClassifier((5,2),solver = 'lbfgs',activation='relu',\n",
    "                     learning_rate= 'constant',learning_rate_init=0.001,\n",
    "                    random_state=0,alpha=0.0001,)\n",
    "e,feature1_nn,feature2_nn = fs_es(X,Y,clf_nn)\n",
    "print('min error = ',e,'\\nFeature 1 = ', feature1_nn,' Feature 2 = ',feature2_nn)"
   ]
  },
  {
   "cell_type": "markdown",
   "metadata": {},
   "source": [
    "#### Neural Network 3-feature selection sequential forward search "
   ]
  },
  {
   "cell_type": "code",
   "execution_count": 28,
   "metadata": {},
   "outputs": [
    {
     "name": "stdout",
     "output_type": "stream",
     "text": [
      "min error =  0.55 \n",
      "Feature 1 =  2  Feature 2 =  62  Feature 3 =  63\n"
     ]
    }
   ],
   "source": [
    "e,feature3_nn = fs_sfs3(X,Y,feature1_nn,feature2_nn,clf_nn)\n",
    "print('min error = ',e,'\\nFeature 1 = ', feature1_nn,' Feature 2 = ',feature2_nn,' Feature 3 = ',feature3_nn)"
   ]
  },
  {
   "cell_type": "markdown",
   "metadata": {},
   "source": [
    "#### Neural Network 4-feature selection sequential forward search  "
   ]
  },
  {
   "cell_type": "code",
   "execution_count": 30,
   "metadata": {},
   "outputs": [
    {
     "name": "stdout",
     "output_type": "stream",
     "text": [
      "min error =  0.6375 \n",
      "Feature 1 =  2  Feature 2 =  62  Feature 3 =  63  Feature 4 =  13\n"
     ]
    }
   ],
   "source": [
    "e,feature4_nn = fs_sfs4(X,Y,feature1_nn,feature2_nn,feature3_nn,clf_nn)\n",
    "print('min error = ',e,'\\nFeature 1 = ', feature1_nn,' Feature 2 = ',feature2_nn,' Feature 3 = ',feature3_nn,\n",
    "      ' Feature 4 = ',feature4_nn)"
   ]
  },
  {
   "cell_type": "markdown",
   "metadata": {},
   "source": [
    "#### Neural network 5-feature selection sequential forward search  "
   ]
  },
  {
   "cell_type": "code",
   "execution_count": 31,
   "metadata": {},
   "outputs": [
    {
     "name": "stdout",
     "output_type": "stream",
     "text": [
      "min error =  0.575 \n",
      "Feature 1 =  2  Feature 2 =  62  Feature 3 =  63  Feature 4 =  13  Feature 5 =  47\n"
     ]
    }
   ],
   "source": [
    "e,feature5_nn = fs_sfs5(X,Y,feature1_nn,feature2_nn,feature3_nn,feature4_nn,clf_nn)\n",
    "print('min error = ',e,'\\nFeature 1 = ', feature1_nn,' Feature 2 = ',feature2_nn,' Feature 3 = ',feature3_nn,\n",
    "      ' Feature 4 = ',feature4_nn,' Feature 5 = ',feature5_nn)"
   ]
  },
  {
   "cell_type": "code",
   "execution_count": null,
   "metadata": {},
   "outputs": [],
   "source": []
  },
  {
   "cell_type": "code",
   "execution_count": null,
   "metadata": {},
   "outputs": [],
   "source": []
  }
 ],
 "metadata": {
  "kernelspec": {
   "display_name": "Python 3",
   "language": "python",
   "name": "python3"
  },
  "language_info": {
   "codemirror_mode": {
    "name": "ipython",
    "version": 3
   },
   "file_extension": ".py",
   "mimetype": "text/x-python",
   "name": "python",
   "nbconvert_exporter": "python",
   "pygments_lexer": "ipython3",
   "version": "3.6.6"
  }
 },
 "nbformat": 4,
 "nbformat_minor": 2
}
